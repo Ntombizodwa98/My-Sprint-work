{
 "cells": [
  {
   "cell_type": "code",
   "execution_count": 3,
   "metadata": {},
   "outputs": [
    {
     "name": "stdout",
     "output_type": "stream",
     "text": [
      "MariaDatabase version : 10.5.4-MariaDB \n"
     ]
    }
   ],
   "source": [
    "#Introduction to Day 5\n",
    "#Sprint 2\n",
    "import pymysql\n",
    "\n",
    "db = pymysql.connect(user='root', password='Zeethwala#98',\n",
    "                                 host='localhost',\n",
    "                                 database='Supermarket')\n",
    "\n",
    "# prepare a cursor object using cursor() method\n",
    "cursor = db.cursor()\n",
    "\n",
    "# execute SQL query using execute() method.\n",
    "cursor.execute(\"SELECT VERSION()\")\n",
    "\n",
    "# Fetch a single row using fetchone() method.\n",
    "data = cursor.fetchone()\n",
    "print(\"MariaDatabase version : %s \" % data)\n",
    "\n",
    "# disconnect from server\n",
    "db.close()"
   ]
  },
  {
   "cell_type": "code",
   "execution_count": 7,
   "metadata": {},
   "outputs": [
    {
     "name": "stdout",
     "output_type": "stream",
     "text": [
      "product_type: Simba\n",
      "product_Purchased: 40\n",
      "\n",
      "\n",
      "product_type: Lays\n",
      "product_Purchased: 45\n",
      "\n",
      "\n",
      "product_type: Cadbury\n",
      "product_Purchased: 54\n",
      "\n",
      "\n",
      "product_type: Tex\n",
      "product_Purchased: 30\n",
      "\n",
      "\n",
      "product_type: Fanta\n",
      "product_Purchased: 20\n",
      "\n",
      "\n",
      "product_type: Coke\n",
      "product_Purchased: 35\n",
      "\n",
      "\n",
      "product_type: Pepper steak\n",
      "product_Purchased: 10\n",
      "\n",
      "\n",
      "product_type: Chicken\n",
      "product_Purchased: 15\n",
      "\n",
      "\n",
      "product_type: Pear\n",
      "product_Purchased: 5\n",
      "\n",
      "\n",
      "product_type: Apple\n",
      "product_Purchased: 10\n",
      "\n",
      "\n",
      "product_type: Orange\n",
      "product_Purchased: 15\n",
      "\n",
      "\n",
      "product_type: Vanilla\n",
      "product_Purchased: 40\n",
      "\n",
      "\n",
      "product_type: Chocolate\n",
      "product_Purchased: 35\n",
      "\n",
      "\n",
      "product_type: Spinach\n",
      "product_Purchased: 20\n",
      "\n",
      "\n",
      "product_type: Cabbage\n",
      "product_Purchased: 10\n",
      "\n",
      "\n"
     ]
    }
   ],
   "source": [
    "#a) Import the data from your CSV/Excel file, from sprint 1, using MySQL.\n",
    "\n",
    "import pymysql\n",
    "\n",
    "db = pymysql.connect(user='root', password='Zeethwala#98',host='localhost',database='Supermarket')\n",
    "\n",
    "# prepare a cursor object using cursor() method\n",
    "cursor = db.cursor()\n",
    "\n",
    "sql = \"SELECT * FROM Supermarket.Products\"\n",
    "\n",
    "cursor.execute(sql)\n",
    "\n",
    "# Fetch all the rows in a list of lists.\n",
    "results = cursor.fetchall()\n",
    "for row in results:\n",
    "#print out the Product type and the amount purchased\n",
    "\n",
    "   print(\"product_type: %s\\nproduct_Purchased: %s\\n\\n\" % (row[2], row[3])) \n",
    "\n",
    "# Now print fetched result\n",
    "cursor.execute(sql)\n",
    "# disconnect from server\n",
    "db.close()"
   ]
  },
  {
   "cell_type": "code",
   "execution_count": 8,
   "metadata": {},
   "outputs": [
    {
     "data": {
      "image/png": "[encoded data removed]",
      "text/plain": [
       "<Figure size 864x648 with 1 Axes>"
      ]
     },
     "metadata": {
      "needs_background": "light"
     },
     "output_type": "display_data"
    }
   ],
   "source": [
    "#Data visualization using a graph\n",
    "import matplotlib.pyplot as plt\n",
    "import numpy as np\n",
    "import pymysql\n",
    "#open connection to the database\n",
    "db = pymysql.connect(user='root', password='Zeethwala#98',host='localhost',database='Supermarket')\n",
    "#prepare cursor object using cursor() method\n",
    "cursor = db.cursor()\n",
    "sql = \"SELECT * FROM Supermarket.Products\"\n",
    "#drop a table if it already exists (on the database) using execute() method\n",
    "cursor.execute(sql)\n",
    "\n",
    "# Fetch all the rows in a list of lists.\n",
    "products = cursor.fetchall()\n",
    "\n",
    "product_type = []\n",
    "product_purchased = []\n",
    "for product in products:\n",
    "    product_type.append(product[2])\n",
    "    product_purchased.append(product[3])\n",
    "y_pos = np.arange(len(product_type))\n",
    "plt.figure(figsize=(12, 9))\n",
    "plt.bar(y_pos, product_purchased, align='center', alpha=0.9)\n",
    "plt.xticks(y_pos, product_type, rotation=70)\n",
    "plt.xticks(y_pos, product_type)\n",
    "plt.ylabel('Purchases')\n",
    "plt.xlabel('Product type')\n",
    "plt.title('Bar Graph Of Products Available at the Supermarket')\n",
    "\n",
    "plt.show()\n",
    "# Now print fetched result\n",
    "cursor.execute(sql)\n",
    "# disconnect from server\n",
    "db.close()"
   ]
  },
  {
   "cell_type": "code",
   "execution_count": 6,
   "metadata": {},
   "outputs": [],
   "source": [
    "\n",
    "\n",
    "import pymysql"
   ]
  },
  {
   "cell_type": "code",
   "execution_count": null,
   "metadata": {},
   "outputs": [],
   "source": []
  }
 ],
 "metadata": {
  "kernelspec": {
   "display_name": "Python 3",
   "language": "python",
   "name": "python3"
  },
  "language_info": {
   "codemirror_mode": {
    "name": "ipython",
    "version": 3
   },
   "file_extension": ".py",
   "mimetype": "text/x-python",
   "name": "python",
   "nbconvert_exporter": "python",
   "pygments_lexer": "ipython3",
   "version": "3.7.6"
  }
 },
 "nbformat": 4,
 "nbformat_minor": 2
}
